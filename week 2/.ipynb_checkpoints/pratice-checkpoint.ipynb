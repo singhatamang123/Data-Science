{
 "cells": [
  {
   "cell_type": "code",
   "execution_count": 1,
   "id": "6d0a8ff4-fbaa-4eb1-8117-2f9fe2eb93a6",
   "metadata": {},
   "outputs": [],
   "source": [
    "import pandas as pd\n",
    "import numpy as np"
   ]
  },
  {
   "cell_type": "code",
   "execution_count": 2,
   "id": "f36b4c56-66da-4ba5-943b-b1f6e0c6d490",
   "metadata": {},
   "outputs": [
    {
     "data": {
      "text/html": [
       "<div>\n",
       "<style scoped>\n",
       "    .dataframe tbody tr th:only-of-type {\n",
       "        vertical-align: middle;\n",
       "    }\n",
       "\n",
       "    .dataframe tbody tr th {\n",
       "        vertical-align: top;\n",
       "    }\n",
       "\n",
       "    .dataframe thead th {\n",
       "        text-align: right;\n",
       "    }\n",
       "</style>\n",
       "<table border=\"1\" class=\"dataframe\">\n",
       "  <thead>\n",
       "    <tr style=\"text-align: right;\">\n",
       "      <th></th>\n",
       "      <th>Name of the data = Home Consumption</th>\n",
       "      <th>Unnamed: 1</th>\n",
       "      <th>Unnamed: 2</th>\n",
       "      <th>Unnamed: 3</th>\n",
       "      <th>Unnamed: 4</th>\n",
       "      <th>Unnamed: 5</th>\n",
       "    </tr>\n",
       "  </thead>\n",
       "  <tbody>\n",
       "    <tr>\n",
       "      <th>0</th>\n",
       "      <td>Unit = kW and $/kW</td>\n",
       "      <td>NaN</td>\n",
       "      <td>NaN</td>\n",
       "      <td>NaN</td>\n",
       "      <td>NaN</td>\n",
       "      <td>NaN</td>\n",
       "    </tr>\n",
       "    <tr>\n",
       "      <th>1</th>\n",
       "      <td>Time</td>\n",
       "      <td>E_Plug</td>\n",
       "      <td>E_Heat</td>\n",
       "      <td>Price</td>\n",
       "      <td>Temperature</td>\n",
       "      <td>No. Occupants</td>\n",
       "    </tr>\n",
       "    <tr>\n",
       "      <th>2</th>\n",
       "      <td>1</td>\n",
       "      <td>24</td>\n",
       "      <td>28</td>\n",
       "      <td>10</td>\n",
       "      <td>-15</td>\n",
       "      <td>12</td>\n",
       "    </tr>\n",
       "    <tr>\n",
       "      <th>3</th>\n",
       "      <td>2</td>\n",
       "      <td>17</td>\n",
       "      <td>32</td>\n",
       "      <td>12</td>\n",
       "      <td>-17</td>\n",
       "      <td>12</td>\n",
       "    </tr>\n",
       "    <tr>\n",
       "      <th>4</th>\n",
       "      <td>3</td>\n",
       "      <td>16</td>\n",
       "      <td>34</td>\n",
       "      <td>11</td>\n",
       "      <td>-19</td>\n",
       "      <td>12</td>\n",
       "    </tr>\n",
       "  </tbody>\n",
       "</table>\n",
       "</div>"
      ],
      "text/plain": [
       "  Name of the data = Home Consumption Unnamed: 1 Unnamed: 2 Unnamed: 3  \\\n",
       "0                  Unit = kW and $/kW        NaN        NaN        NaN   \n",
       "1                                Time     E_Plug     E_Heat      Price   \n",
       "2                                   1         24         28         10   \n",
       "3                                   2         17         32         12   \n",
       "4                                   3         16         34         11   \n",
       "\n",
       "    Unnamed: 4     Unnamed: 5  \n",
       "0          NaN            NaN  \n",
       "1  Temperature  No. Occupants  \n",
       "2          -15             12  \n",
       "3          -17             12  \n",
       "4          -19             12  "
      ]
     },
     "execution_count": 2,
     "metadata": {},
     "output_type": "execute_result"
    }
   ],
   "source": [
    "dp_01 = pd.read_csv('Data_Set.csv')\n",
    "dp_01.head()"
   ]
  },
  {
   "cell_type": "code",
   "execution_count": 3,
   "id": "c7605bdd-e829-4961-b879-55d7c05b431e",
   "metadata": {},
   "outputs": [
    {
     "data": {
      "text/plain": [
       "(27, 6)"
      ]
     },
     "execution_count": 3,
     "metadata": {},
     "output_type": "execute_result"
    }
   ],
   "source": [
    "dp_01.shape"
   ]
  },
  {
   "cell_type": "markdown",
   "id": "7610c2d1-841a-4d9e-8421-ede238972d93",
   "metadata": {},
   "source": [
    "# Changing header"
   ]
  },
  {
   "cell_type": "code",
   "execution_count": 4,
   "id": "7cba7002-faea-41ae-af4d-d715830fd4ef",
   "metadata": {},
   "outputs": [
    {
     "data": {
      "text/html": [
       "<div>\n",
       "<style scoped>\n",
       "    .dataframe tbody tr th:only-of-type {\n",
       "        vertical-align: middle;\n",
       "    }\n",
       "\n",
       "    .dataframe tbody tr th {\n",
       "        vertical-align: top;\n",
       "    }\n",
       "\n",
       "    .dataframe thead th {\n",
       "        text-align: right;\n",
       "    }\n",
       "</style>\n",
       "<table border=\"1\" class=\"dataframe\">\n",
       "  <thead>\n",
       "    <tr style=\"text-align: right;\">\n",
       "      <th></th>\n",
       "      <th>Time</th>\n",
       "      <th>E_Plug</th>\n",
       "      <th>E_Heat</th>\n",
       "      <th>Price</th>\n",
       "      <th>Temperature</th>\n",
       "      <th>No. Occupants</th>\n",
       "    </tr>\n",
       "  </thead>\n",
       "  <tbody>\n",
       "    <tr>\n",
       "      <th>0</th>\n",
       "      <td>1</td>\n",
       "      <td>24.0</td>\n",
       "      <td>28</td>\n",
       "      <td>10</td>\n",
       "      <td>-15</td>\n",
       "      <td>12</td>\n",
       "    </tr>\n",
       "    <tr>\n",
       "      <th>1</th>\n",
       "      <td>2</td>\n",
       "      <td>17.0</td>\n",
       "      <td>32</td>\n",
       "      <td>12</td>\n",
       "      <td>-17</td>\n",
       "      <td>12</td>\n",
       "    </tr>\n",
       "    <tr>\n",
       "      <th>2</th>\n",
       "      <td>3</td>\n",
       "      <td>16.0</td>\n",
       "      <td>34</td>\n",
       "      <td>11</td>\n",
       "      <td>-19</td>\n",
       "      <td>12</td>\n",
       "    </tr>\n",
       "    <tr>\n",
       "      <th>3</th>\n",
       "      <td>3</td>\n",
       "      <td>16.0</td>\n",
       "      <td>34</td>\n",
       "      <td>11</td>\n",
       "      <td>-19</td>\n",
       "      <td>12</td>\n",
       "    </tr>\n",
       "    <tr>\n",
       "      <th>4</th>\n",
       "      <td>4</td>\n",
       "      <td>16.0</td>\n",
       "      <td>33</td>\n",
       "      <td>12</td>\n",
       "      <td>-18</td>\n",
       "      <td>12</td>\n",
       "    </tr>\n",
       "  </tbody>\n",
       "</table>\n",
       "</div>"
      ],
      "text/plain": [
       "   Time  E_Plug  E_Heat Price  Temperature  No. Occupants\n",
       "0     1    24.0      28    10          -15             12\n",
       "1     2    17.0      32    12          -17             12\n",
       "2     3    16.0      34    11          -19             12\n",
       "3     3    16.0      34    11          -19             12\n",
       "4     4    16.0      33    12          -18             12"
      ]
     },
     "execution_count": 4,
     "metadata": {},
     "output_type": "execute_result"
    }
   ],
   "source": [
    "dp_02 = pd.read_csv('Data_Set.csv', header=2)\n",
    "dp_02.head()"
   ]
  },
  {
   "cell_type": "code",
   "execution_count": 5,
   "id": "2b8c52f3-b960-4a3b-9d87-9a9ba12fe111",
   "metadata": {},
   "outputs": [
    {
     "data": {
      "text/plain": [
       "(25, 6)"
      ]
     },
     "execution_count": 5,
     "metadata": {},
     "output_type": "execute_result"
    }
   ],
   "source": [
    "dp_02.shape"
   ]
  },
  {
   "cell_type": "markdown",
   "id": "c84e4d24-a58a-4ac5-965f-c5235301455e",
   "metadata": {},
   "source": [
    "## Changing column name"
   ]
  },
  {
   "cell_type": "code",
   "execution_count": 6,
   "id": "311ea7bd-fe8e-4bd3-b760-d3a0d3898781",
   "metadata": {},
   "outputs": [
    {
     "data": {
      "text/html": [
       "<div>\n",
       "<style scoped>\n",
       "    .dataframe tbody tr th:only-of-type {\n",
       "        vertical-align: middle;\n",
       "    }\n",
       "\n",
       "    .dataframe tbody tr th {\n",
       "        vertical-align: top;\n",
       "    }\n",
       "\n",
       "    .dataframe thead th {\n",
       "        text-align: right;\n",
       "    }\n",
       "</style>\n",
       "<table border=\"1\" class=\"dataframe\">\n",
       "  <thead>\n",
       "    <tr style=\"text-align: right;\">\n",
       "      <th></th>\n",
       "      <th>Time</th>\n",
       "      <th>E_Plug</th>\n",
       "      <th>E_Heat</th>\n",
       "      <th>Price</th>\n",
       "      <th>Temp</th>\n",
       "      <th>No. Occupants</th>\n",
       "    </tr>\n",
       "  </thead>\n",
       "  <tbody>\n",
       "    <tr>\n",
       "      <th>0</th>\n",
       "      <td>1</td>\n",
       "      <td>24.0</td>\n",
       "      <td>28</td>\n",
       "      <td>10</td>\n",
       "      <td>-15</td>\n",
       "      <td>12</td>\n",
       "    </tr>\n",
       "    <tr>\n",
       "      <th>1</th>\n",
       "      <td>2</td>\n",
       "      <td>17.0</td>\n",
       "      <td>32</td>\n",
       "      <td>12</td>\n",
       "      <td>-17</td>\n",
       "      <td>12</td>\n",
       "    </tr>\n",
       "    <tr>\n",
       "      <th>2</th>\n",
       "      <td>3</td>\n",
       "      <td>16.0</td>\n",
       "      <td>34</td>\n",
       "      <td>11</td>\n",
       "      <td>-19</td>\n",
       "      <td>12</td>\n",
       "    </tr>\n",
       "    <tr>\n",
       "      <th>3</th>\n",
       "      <td>3</td>\n",
       "      <td>16.0</td>\n",
       "      <td>34</td>\n",
       "      <td>11</td>\n",
       "      <td>-19</td>\n",
       "      <td>12</td>\n",
       "    </tr>\n",
       "    <tr>\n",
       "      <th>4</th>\n",
       "      <td>4</td>\n",
       "      <td>16.0</td>\n",
       "      <td>33</td>\n",
       "      <td>12</td>\n",
       "      <td>-18</td>\n",
       "      <td>12</td>\n",
       "    </tr>\n",
       "  </tbody>\n",
       "</table>\n",
       "</div>"
      ],
      "text/plain": [
       "   Time  E_Plug  E_Heat Price  Temp  No. Occupants\n",
       "0     1    24.0      28    10   -15             12\n",
       "1     2    17.0      32    12   -17             12\n",
       "2     3    16.0      34    11   -19             12\n",
       "3     3    16.0      34    11   -19             12\n",
       "4     4    16.0      33    12   -18             12"
      ]
     },
     "execution_count": 6,
     "metadata": {},
     "output_type": "execute_result"
    }
   ],
   "source": [
    "dp_03 = dp_02.rename(columns ={'Temperature': 'Temp'})\n",
    "dp_03.head()"
   ]
  },
  {
   "cell_type": "markdown",
   "id": "715d688a-77ea-4d94-a64c-3a8c93be49cb",
   "metadata": {},
   "source": [
    "## Drop column"
   ]
  },
  {
   "cell_type": "code",
   "execution_count": 7,
   "id": "462fa3ff-03f0-45b6-800a-b1dcfdc27ac0",
   "metadata": {},
   "outputs": [
    {
     "data": {
      "text/html": [
       "<div>\n",
       "<style scoped>\n",
       "    .dataframe tbody tr th:only-of-type {\n",
       "        vertical-align: middle;\n",
       "    }\n",
       "\n",
       "    .dataframe tbody tr th {\n",
       "        vertical-align: top;\n",
       "    }\n",
       "\n",
       "    .dataframe thead th {\n",
       "        text-align: right;\n",
       "    }\n",
       "</style>\n",
       "<table border=\"1\" class=\"dataframe\">\n",
       "  <thead>\n",
       "    <tr style=\"text-align: right;\">\n",
       "      <th></th>\n",
       "      <th>Time</th>\n",
       "      <th>E_Plug</th>\n",
       "      <th>E_Heat</th>\n",
       "      <th>Price</th>\n",
       "      <th>Temp</th>\n",
       "    </tr>\n",
       "  </thead>\n",
       "  <tbody>\n",
       "    <tr>\n",
       "      <th>0</th>\n",
       "      <td>1</td>\n",
       "      <td>24.0</td>\n",
       "      <td>28</td>\n",
       "      <td>10</td>\n",
       "      <td>-15</td>\n",
       "    </tr>\n",
       "    <tr>\n",
       "      <th>1</th>\n",
       "      <td>2</td>\n",
       "      <td>17.0</td>\n",
       "      <td>32</td>\n",
       "      <td>12</td>\n",
       "      <td>-17</td>\n",
       "    </tr>\n",
       "    <tr>\n",
       "      <th>2</th>\n",
       "      <td>3</td>\n",
       "      <td>16.0</td>\n",
       "      <td>34</td>\n",
       "      <td>11</td>\n",
       "      <td>-19</td>\n",
       "    </tr>\n",
       "    <tr>\n",
       "      <th>3</th>\n",
       "      <td>3</td>\n",
       "      <td>16.0</td>\n",
       "      <td>34</td>\n",
       "      <td>11</td>\n",
       "      <td>-19</td>\n",
       "    </tr>\n",
       "    <tr>\n",
       "      <th>4</th>\n",
       "      <td>4</td>\n",
       "      <td>16.0</td>\n",
       "      <td>33</td>\n",
       "      <td>12</td>\n",
       "      <td>-18</td>\n",
       "    </tr>\n",
       "  </tbody>\n",
       "</table>\n",
       "</div>"
      ],
      "text/plain": [
       "   Time  E_Plug  E_Heat Price  Temp\n",
       "0     1    24.0      28    10   -15\n",
       "1     2    17.0      32    12   -17\n",
       "2     3    16.0      34    11   -19\n",
       "3     3    16.0      34    11   -19\n",
       "4     4    16.0      33    12   -18"
      ]
     },
     "execution_count": 7,
     "metadata": {},
     "output_type": "execute_result"
    }
   ],
   "source": [
    "dp_03.drop('No. Occupants', inplace=True, axis=1)\n",
    "dp_03.head()"
   ]
  },
  {
   "cell_type": "markdown",
   "id": "be1961be-73ac-4587-86e2-94a9ee70b666",
   "metadata": {},
   "source": [
    "# Statictis\n",
    "## Duplicate vale\n"
   ]
  },
  {
   "cell_type": "code",
   "execution_count": 8,
   "id": "748895d2-3639-4b19-b22c-181cf02fc078",
   "metadata": {},
   "outputs": [
    {
     "data": {
      "text/html": [
       "<div>\n",
       "<style scoped>\n",
       "    .dataframe tbody tr th:only-of-type {\n",
       "        vertical-align: middle;\n",
       "    }\n",
       "\n",
       "    .dataframe tbody tr th {\n",
       "        vertical-align: top;\n",
       "    }\n",
       "\n",
       "    .dataframe thead th {\n",
       "        text-align: right;\n",
       "    }\n",
       "</style>\n",
       "<table border=\"1\" class=\"dataframe\">\n",
       "  <thead>\n",
       "    <tr style=\"text-align: right;\">\n",
       "      <th></th>\n",
       "      <th>Time</th>\n",
       "      <th>E_Plug</th>\n",
       "      <th>E_Heat</th>\n",
       "      <th>Price</th>\n",
       "      <th>Temp</th>\n",
       "    </tr>\n",
       "  </thead>\n",
       "  <tbody>\n",
       "    <tr>\n",
       "      <th>3</th>\n",
       "      <td>3</td>\n",
       "      <td>16.0</td>\n",
       "      <td>34</td>\n",
       "      <td>11</td>\n",
       "      <td>-19</td>\n",
       "    </tr>\n",
       "  </tbody>\n",
       "</table>\n",
       "</div>"
      ],
      "text/plain": [
       "   Time  E_Plug  E_Heat Price  Temp\n",
       "3     3    16.0      34    11   -19"
      ]
     },
     "execution_count": 8,
     "metadata": {},
     "output_type": "execute_result"
    }
   ],
   "source": [
    "dup = dp_03[dp_03.duplicated()]\n",
    "dup"
   ]
  },
  {
   "cell_type": "markdown",
   "id": "152fcec3-aca2-44b4-9ee4-11aad56735ca",
   "metadata": {},
   "source": [
    "## Drop duplicate"
   ]
  },
  {
   "cell_type": "code",
   "execution_count": 9,
   "id": "769ecc25-4a9e-4f98-993d-b396478e4afe",
   "metadata": {},
   "outputs": [
    {
     "data": {
      "text/html": [
       "<div>\n",
       "<style scoped>\n",
       "    .dataframe tbody tr th:only-of-type {\n",
       "        vertical-align: middle;\n",
       "    }\n",
       "\n",
       "    .dataframe tbody tr th {\n",
       "        vertical-align: top;\n",
       "    }\n",
       "\n",
       "    .dataframe thead th {\n",
       "        text-align: right;\n",
       "    }\n",
       "</style>\n",
       "<table border=\"1\" class=\"dataframe\">\n",
       "  <thead>\n",
       "    <tr style=\"text-align: right;\">\n",
       "      <th></th>\n",
       "      <th>Time</th>\n",
       "      <th>E_Plug</th>\n",
       "      <th>E_Heat</th>\n",
       "      <th>Price</th>\n",
       "      <th>Temp</th>\n",
       "    </tr>\n",
       "  </thead>\n",
       "  <tbody>\n",
       "    <tr>\n",
       "      <th>0</th>\n",
       "      <td>1</td>\n",
       "      <td>24.0</td>\n",
       "      <td>28</td>\n",
       "      <td>10</td>\n",
       "      <td>-15</td>\n",
       "    </tr>\n",
       "    <tr>\n",
       "      <th>1</th>\n",
       "      <td>2</td>\n",
       "      <td>17.0</td>\n",
       "      <td>32</td>\n",
       "      <td>12</td>\n",
       "      <td>-17</td>\n",
       "    </tr>\n",
       "    <tr>\n",
       "      <th>3</th>\n",
       "      <td>3</td>\n",
       "      <td>16.0</td>\n",
       "      <td>34</td>\n",
       "      <td>11</td>\n",
       "      <td>-19</td>\n",
       "    </tr>\n",
       "    <tr>\n",
       "      <th>4</th>\n",
       "      <td>4</td>\n",
       "      <td>16.0</td>\n",
       "      <td>33</td>\n",
       "      <td>12</td>\n",
       "      <td>-18</td>\n",
       "    </tr>\n",
       "    <tr>\n",
       "      <th>5</th>\n",
       "      <td>5</td>\n",
       "      <td>16.0</td>\n",
       "      <td>30</td>\n",
       "      <td>10</td>\n",
       "      <td>-14</td>\n",
       "    </tr>\n",
       "  </tbody>\n",
       "</table>\n",
       "</div>"
      ],
      "text/plain": [
       "   Time  E_Plug  E_Heat Price  Temp\n",
       "0     1    24.0      28    10   -15\n",
       "1     2    17.0      32    12   -17\n",
       "3     3    16.0      34    11   -19\n",
       "4     4    16.0      33    12   -18\n",
       "5     5    16.0      30    10   -14"
      ]
     },
     "execution_count": 9,
     "metadata": {},
     "output_type": "execute_result"
    }
   ],
   "source": [
    "dp_04 = dp_03.drop(2, axis=0)\n",
    "dp_04.head()"
   ]
  },
  {
   "cell_type": "markdown",
   "id": "a2ec3ea6-2a60-4f7c-8f83-499b201c8415",
   "metadata": {},
   "source": [
    "## Reset Index"
   ]
  },
  {
   "cell_type": "code",
   "execution_count": 27,
   "id": "a0f3371b-144c-4d8f-b4a7-89c90627ba35",
   "metadata": {},
   "outputs": [
    {
     "data": {
      "text/html": [
       "<div>\n",
       "<style scoped>\n",
       "    .dataframe tbody tr th:only-of-type {\n",
       "        vertical-align: middle;\n",
       "    }\n",
       "\n",
       "    .dataframe tbody tr th {\n",
       "        vertical-align: top;\n",
       "    }\n",
       "\n",
       "    .dataframe thead th {\n",
       "        text-align: right;\n",
       "    }\n",
       "</style>\n",
       "<table border=\"1\" class=\"dataframe\">\n",
       "  <thead>\n",
       "    <tr style=\"text-align: right;\">\n",
       "      <th></th>\n",
       "      <th>Time</th>\n",
       "      <th>E_Plug</th>\n",
       "      <th>E_Heat</th>\n",
       "      <th>Price</th>\n",
       "      <th>Temp</th>\n",
       "    </tr>\n",
       "  </thead>\n",
       "  <tbody>\n",
       "    <tr>\n",
       "      <th>0</th>\n",
       "      <td>1</td>\n",
       "      <td>24.0</td>\n",
       "      <td>28</td>\n",
       "      <td>10</td>\n",
       "      <td>-15</td>\n",
       "    </tr>\n",
       "    <tr>\n",
       "      <th>1</th>\n",
       "      <td>2</td>\n",
       "      <td>17.0</td>\n",
       "      <td>32</td>\n",
       "      <td>12</td>\n",
       "      <td>-17</td>\n",
       "    </tr>\n",
       "    <tr>\n",
       "      <th>2</th>\n",
       "      <td>3</td>\n",
       "      <td>16.0</td>\n",
       "      <td>34</td>\n",
       "      <td>11</td>\n",
       "      <td>-19</td>\n",
       "    </tr>\n",
       "    <tr>\n",
       "      <th>3</th>\n",
       "      <td>4</td>\n",
       "      <td>16.0</td>\n",
       "      <td>33</td>\n",
       "      <td>12</td>\n",
       "      <td>-18</td>\n",
       "    </tr>\n",
       "    <tr>\n",
       "      <th>4</th>\n",
       "      <td>5</td>\n",
       "      <td>16.0</td>\n",
       "      <td>30</td>\n",
       "      <td>10</td>\n",
       "      <td>-14</td>\n",
       "    </tr>\n",
       "  </tbody>\n",
       "</table>\n",
       "</div>"
      ],
      "text/plain": [
       "   Time  E_Plug  E_Heat Price  Temp\n",
       "0     1    24.0      28    10   -15\n",
       "1     2    17.0      32    12   -17\n",
       "2     3    16.0      34    11   -19\n",
       "3     4    16.0      33    12   -18\n",
       "4     5    16.0      30    10   -14"
      ]
     },
     "execution_count": 27,
     "metadata": {},
     "output_type": "execute_result"
    }
   ],
   "source": [
    "dp_05 = dp_04.reset_index(drop=True)\n",
    "dp_05.head()"
   ]
  },
  {
   "cell_type": "code",
   "execution_count": 28,
   "id": "02f72a7b-377e-48e1-ba6e-ccec52d7eb4c",
   "metadata": {},
   "outputs": [
    {
     "data": {
      "text/html": [
       "<div>\n",
       "<style scoped>\n",
       "    .dataframe tbody tr th:only-of-type {\n",
       "        vertical-align: middle;\n",
       "    }\n",
       "\n",
       "    .dataframe tbody tr th {\n",
       "        vertical-align: top;\n",
       "    }\n",
       "\n",
       "    .dataframe thead th {\n",
       "        text-align: right;\n",
       "    }\n",
       "</style>\n",
       "<table border=\"1\" class=\"dataframe\">\n",
       "  <thead>\n",
       "    <tr style=\"text-align: right;\">\n",
       "      <th></th>\n",
       "      <th>Time</th>\n",
       "      <th>E_Plug</th>\n",
       "      <th>E_Heat</th>\n",
       "      <th>Temp</th>\n",
       "    </tr>\n",
       "  </thead>\n",
       "  <tbody>\n",
       "    <tr>\n",
       "      <th>count</th>\n",
       "      <td>24.000000</td>\n",
       "      <td>23.000000</td>\n",
       "      <td>24.000000</td>\n",
       "      <td>24.000000</td>\n",
       "    </tr>\n",
       "    <tr>\n",
       "      <th>mean</th>\n",
       "      <td>12.500000</td>\n",
       "      <td>31.521739</td>\n",
       "      <td>25.666667</td>\n",
       "      <td>-10.250000</td>\n",
       "    </tr>\n",
       "    <tr>\n",
       "      <th>std</th>\n",
       "      <td>7.071068</td>\n",
       "      <td>21.336843</td>\n",
       "      <td>9.262672</td>\n",
       "      <td>7.968689</td>\n",
       "    </tr>\n",
       "    <tr>\n",
       "      <th>min</th>\n",
       "      <td>1.000000</td>\n",
       "      <td>16.000000</td>\n",
       "      <td>-4.000000</td>\n",
       "      <td>-22.000000</td>\n",
       "    </tr>\n",
       "    <tr>\n",
       "      <th>25%</th>\n",
       "      <td>6.750000</td>\n",
       "      <td>20.500000</td>\n",
       "      <td>19.750000</td>\n",
       "      <td>-16.250000</td>\n",
       "    </tr>\n",
       "    <tr>\n",
       "      <th>50%</th>\n",
       "      <td>12.500000</td>\n",
       "      <td>27.000000</td>\n",
       "      <td>28.500000</td>\n",
       "      <td>-13.000000</td>\n",
       "    </tr>\n",
       "    <tr>\n",
       "      <th>75%</th>\n",
       "      <td>18.250000</td>\n",
       "      <td>34.500000</td>\n",
       "      <td>32.000000</td>\n",
       "      <td>-3.000000</td>\n",
       "    </tr>\n",
       "    <tr>\n",
       "      <th>max</th>\n",
       "      <td>24.000000</td>\n",
       "      <td>120.000000</td>\n",
       "      <td>36.000000</td>\n",
       "      <td>3.000000</td>\n",
       "    </tr>\n",
       "  </tbody>\n",
       "</table>\n",
       "</div>"
      ],
      "text/plain": [
       "            Time      E_Plug     E_Heat       Temp\n",
       "count  24.000000   23.000000  24.000000  24.000000\n",
       "mean   12.500000   31.521739  25.666667 -10.250000\n",
       "std     7.071068   21.336843   9.262672   7.968689\n",
       "min     1.000000   16.000000  -4.000000 -22.000000\n",
       "25%     6.750000   20.500000  19.750000 -16.250000\n",
       "50%    12.500000   27.000000  28.500000 -13.000000\n",
       "75%    18.250000   34.500000  32.000000  -3.000000\n",
       "max    24.000000  120.000000  36.000000   3.000000"
      ]
     },
     "execution_count": 28,
     "metadata": {},
     "output_type": "execute_result"
    }
   ],
   "source": [
    "dp_05.describe()"
   ]
  },
  {
   "cell_type": "code",
   "execution_count": 29,
   "id": "8e07e44f-13c6-4d29-b4ca-322e048ad7fb",
   "metadata": {},
   "outputs": [
    {
     "data": {
      "text/plain": [
       "-4"
      ]
     },
     "execution_count": 29,
     "metadata": {},
     "output_type": "execute_result"
    }
   ],
   "source": [
    "min_item = dp_05['E_Heat'].min()\n",
    "min_item"
   ]
  },
  {
   "cell_type": "code",
   "execution_count": 30,
   "id": "d252c1a8-3299-4965-84a9-23885875d365",
   "metadata": {},
   "outputs": [
    {
     "data": {
      "text/plain": [
       "16   -4\n",
       "Name: E_Heat, dtype: int64"
      ]
     },
     "execution_count": 30,
     "metadata": {},
     "output_type": "execute_result"
    }
   ],
   "source": [
    "dp_06['E_Heat'][dp_05['E_Heat'] == min_item]"
   ]
  },
  {
   "cell_type": "code",
   "execution_count": 31,
   "id": "c25ed9ca-69e4-4b46-8219-3256918f9ca4",
   "metadata": {},
   "outputs": [],
   "source": [
    "dp_05['E_Heat'].replace(-4, 21, inplace = True)"
   ]
  },
  {
   "cell_type": "code",
   "execution_count": 32,
   "id": "acf5b5a1-395d-4be6-beb5-7c8ff4d080d8",
   "metadata": {},
   "outputs": [
    {
     "data": {
      "text/html": [
       "<div>\n",
       "<style scoped>\n",
       "    .dataframe tbody tr th:only-of-type {\n",
       "        vertical-align: middle;\n",
       "    }\n",
       "\n",
       "    .dataframe tbody tr th {\n",
       "        vertical-align: top;\n",
       "    }\n",
       "\n",
       "    .dataframe thead th {\n",
       "        text-align: right;\n",
       "    }\n",
       "</style>\n",
       "<table border=\"1\" class=\"dataframe\">\n",
       "  <thead>\n",
       "    <tr style=\"text-align: right;\">\n",
       "      <th></th>\n",
       "      <th>Time</th>\n",
       "      <th>E_Plug</th>\n",
       "      <th>E_Heat</th>\n",
       "      <th>Price</th>\n",
       "      <th>Temp</th>\n",
       "    </tr>\n",
       "  </thead>\n",
       "  <tbody>\n",
       "    <tr>\n",
       "      <th>0</th>\n",
       "      <td>1</td>\n",
       "      <td>24.0</td>\n",
       "      <td>28</td>\n",
       "      <td>10</td>\n",
       "      <td>-15</td>\n",
       "    </tr>\n",
       "    <tr>\n",
       "      <th>1</th>\n",
       "      <td>2</td>\n",
       "      <td>17.0</td>\n",
       "      <td>32</td>\n",
       "      <td>12</td>\n",
       "      <td>-17</td>\n",
       "    </tr>\n",
       "    <tr>\n",
       "      <th>2</th>\n",
       "      <td>3</td>\n",
       "      <td>16.0</td>\n",
       "      <td>34</td>\n",
       "      <td>11</td>\n",
       "      <td>-19</td>\n",
       "    </tr>\n",
       "    <tr>\n",
       "      <th>3</th>\n",
       "      <td>4</td>\n",
       "      <td>16.0</td>\n",
       "      <td>33</td>\n",
       "      <td>12</td>\n",
       "      <td>-18</td>\n",
       "    </tr>\n",
       "    <tr>\n",
       "      <th>4</th>\n",
       "      <td>5</td>\n",
       "      <td>16.0</td>\n",
       "      <td>30</td>\n",
       "      <td>10</td>\n",
       "      <td>-14</td>\n",
       "    </tr>\n",
       "    <tr>\n",
       "      <th>5</th>\n",
       "      <td>6</td>\n",
       "      <td>16.0</td>\n",
       "      <td>31</td>\n",
       "      <td>10</td>\n",
       "      <td>-16</td>\n",
       "    </tr>\n",
       "    <tr>\n",
       "      <th>6</th>\n",
       "      <td>7</td>\n",
       "      <td>19.0</td>\n",
       "      <td>28</td>\n",
       "      <td>14</td>\n",
       "      <td>-14</td>\n",
       "    </tr>\n",
       "    <tr>\n",
       "      <th>7</th>\n",
       "      <td>8</td>\n",
       "      <td>22.0</td>\n",
       "      <td>29</td>\n",
       "      <td>12</td>\n",
       "      <td>-15</td>\n",
       "    </tr>\n",
       "    <tr>\n",
       "      <th>8</th>\n",
       "      <td>9</td>\n",
       "      <td>25.0</td>\n",
       "      <td>26</td>\n",
       "      <td>12</td>\n",
       "      <td>-12</td>\n",
       "    </tr>\n",
       "    <tr>\n",
       "      <th>9</th>\n",
       "      <td>10</td>\n",
       "      <td>26.0</td>\n",
       "      <td>24</td>\n",
       "      <td>14</td>\n",
       "      <td>-8</td>\n",
       "    </tr>\n",
       "    <tr>\n",
       "      <th>10</th>\n",
       "      <td>11</td>\n",
       "      <td>27.0</td>\n",
       "      <td>20</td>\n",
       "      <td>14</td>\n",
       "      <td>-4</td>\n",
       "    </tr>\n",
       "    <tr>\n",
       "      <th>11</th>\n",
       "      <td>12</td>\n",
       "      <td>30.0</td>\n",
       "      <td>19</td>\n",
       "      <td>16</td>\n",
       "      <td>0</td>\n",
       "    </tr>\n",
       "    <tr>\n",
       "      <th>12</th>\n",
       "      <td>13</td>\n",
       "      <td>30.0</td>\n",
       "      <td>19</td>\n",
       "      <td>16</td>\n",
       "      <td>0</td>\n",
       "    </tr>\n",
       "    <tr>\n",
       "      <th>13</th>\n",
       "      <td>14</td>\n",
       "      <td>NaN</td>\n",
       "      <td>13</td>\n",
       "      <td>17</td>\n",
       "      <td>2</td>\n",
       "    </tr>\n",
       "    <tr>\n",
       "      <th>14</th>\n",
       "      <td>15</td>\n",
       "      <td>27.0</td>\n",
       "      <td>14</td>\n",
       "      <td>17</td>\n",
       "      <td>3</td>\n",
       "    </tr>\n",
       "    <tr>\n",
       "      <th>15</th>\n",
       "      <td>16</td>\n",
       "      <td>27.0</td>\n",
       "      <td>16</td>\n",
       "      <td>17</td>\n",
       "      <td>2</td>\n",
       "    </tr>\n",
       "    <tr>\n",
       "      <th>16</th>\n",
       "      <td>17</td>\n",
       "      <td>28.0</td>\n",
       "      <td>21</td>\n",
       "      <td>18</td>\n",
       "      <td>0</td>\n",
       "    </tr>\n",
       "    <tr>\n",
       "      <th>17</th>\n",
       "      <td>18</td>\n",
       "      <td>33.0</td>\n",
       "      <td>26</td>\n",
       "      <td>20</td>\n",
       "      <td>-6</td>\n",
       "    </tr>\n",
       "    <tr>\n",
       "      <th>18</th>\n",
       "      <td>19</td>\n",
       "      <td>42.0</td>\n",
       "      <td>32</td>\n",
       "      <td>21</td>\n",
       "      <td>-8</td>\n",
       "    </tr>\n",
       "    <tr>\n",
       "      <th>19</th>\n",
       "      <td>20</td>\n",
       "      <td>120.0</td>\n",
       "      <td>33</td>\n",
       "      <td>21</td>\n",
       "      <td>-12</td>\n",
       "    </tr>\n",
       "    <tr>\n",
       "      <th>20</th>\n",
       "      <td>21</td>\n",
       "      <td>47.0</td>\n",
       "      <td>32</td>\n",
       "      <td>21</td>\n",
       "      <td>-16</td>\n",
       "    </tr>\n",
       "    <tr>\n",
       "      <th>21</th>\n",
       "      <td>22</td>\n",
       "      <td>44.0</td>\n",
       "      <td>30</td>\n",
       "      <td>22</td>\n",
       "      <td>-18</td>\n",
       "    </tr>\n",
       "    <tr>\n",
       "      <th>22</th>\n",
       "      <td>23</td>\n",
       "      <td>36.0</td>\n",
       "      <td>35</td>\n",
       "      <td>!</td>\n",
       "      <td>-19</td>\n",
       "    </tr>\n",
       "    <tr>\n",
       "      <th>23</th>\n",
       "      <td>24</td>\n",
       "      <td>37.0</td>\n",
       "      <td>36</td>\n",
       "      <td>18</td>\n",
       "      <td>-22</td>\n",
       "    </tr>\n",
       "  </tbody>\n",
       "</table>\n",
       "</div>"
      ],
      "text/plain": [
       "    Time  E_Plug  E_Heat Price  Temp\n",
       "0      1    24.0      28    10   -15\n",
       "1      2    17.0      32    12   -17\n",
       "2      3    16.0      34    11   -19\n",
       "3      4    16.0      33    12   -18\n",
       "4      5    16.0      30    10   -14\n",
       "5      6    16.0      31    10   -16\n",
       "6      7    19.0      28    14   -14\n",
       "7      8    22.0      29    12   -15\n",
       "8      9    25.0      26    12   -12\n",
       "9     10    26.0      24    14    -8\n",
       "10    11    27.0      20    14    -4\n",
       "11    12    30.0      19    16     0\n",
       "12    13    30.0      19    16     0\n",
       "13    14     NaN      13    17     2\n",
       "14    15    27.0      14    17     3\n",
       "15    16    27.0      16    17     2\n",
       "16    17    28.0      21    18     0\n",
       "17    18    33.0      26    20    -6\n",
       "18    19    42.0      32    21    -8\n",
       "19    20   120.0      33    21   -12\n",
       "20    21    47.0      32    21   -16\n",
       "21    22    44.0      30    22   -18\n",
       "22    23    36.0      35     !   -19\n",
       "23    24    37.0      36    18   -22"
      ]
     },
     "execution_count": 32,
     "metadata": {},
     "output_type": "execute_result"
    }
   ],
   "source": [
    "dp_05"
   ]
  },
  {
   "cell_type": "code",
   "execution_count": 33,
   "id": "ffb62436-4671-408e-8748-b6086fef0027",
   "metadata": {},
   "outputs": [
    {
     "data": {
      "text/html": [
       "<div>\n",
       "<style scoped>\n",
       "    .dataframe tbody tr th:only-of-type {\n",
       "        vertical-align: middle;\n",
       "    }\n",
       "\n",
       "    .dataframe tbody tr th {\n",
       "        vertical-align: top;\n",
       "    }\n",
       "\n",
       "    .dataframe thead th {\n",
       "        text-align: right;\n",
       "    }\n",
       "</style>\n",
       "<table border=\"1\" class=\"dataframe\">\n",
       "  <thead>\n",
       "    <tr style=\"text-align: right;\">\n",
       "      <th></th>\n",
       "      <th>Time</th>\n",
       "      <th>E_Plug</th>\n",
       "      <th>E_Heat</th>\n",
       "      <th>Price</th>\n",
       "      <th>Temp</th>\n",
       "    </tr>\n",
       "  </thead>\n",
       "  <tbody>\n",
       "    <tr>\n",
       "      <th>12</th>\n",
       "      <td>13</td>\n",
       "      <td>30.0</td>\n",
       "      <td>19</td>\n",
       "      <td>16</td>\n",
       "      <td>0</td>\n",
       "    </tr>\n",
       "    <tr>\n",
       "      <th>13</th>\n",
       "      <td>14</td>\n",
       "      <td>NaN</td>\n",
       "      <td>13</td>\n",
       "      <td>17</td>\n",
       "      <td>2</td>\n",
       "    </tr>\n",
       "    <tr>\n",
       "      <th>14</th>\n",
       "      <td>15</td>\n",
       "      <td>27.0</td>\n",
       "      <td>14</td>\n",
       "      <td>17</td>\n",
       "      <td>3</td>\n",
       "    </tr>\n",
       "    <tr>\n",
       "      <th>15</th>\n",
       "      <td>16</td>\n",
       "      <td>27.0</td>\n",
       "      <td>16</td>\n",
       "      <td>17</td>\n",
       "      <td>2</td>\n",
       "    </tr>\n",
       "    <tr>\n",
       "      <th>16</th>\n",
       "      <td>17</td>\n",
       "      <td>28.0</td>\n",
       "      <td>21</td>\n",
       "      <td>18</td>\n",
       "      <td>0</td>\n",
       "    </tr>\n",
       "    <tr>\n",
       "      <th>17</th>\n",
       "      <td>18</td>\n",
       "      <td>33.0</td>\n",
       "      <td>26</td>\n",
       "      <td>20</td>\n",
       "      <td>-6</td>\n",
       "    </tr>\n",
       "  </tbody>\n",
       "</table>\n",
       "</div>"
      ],
      "text/plain": [
       "    Time  E_Plug  E_Heat Price  Temp\n",
       "12    13    30.0      19    16     0\n",
       "13    14     NaN      13    17     2\n",
       "14    15    27.0      14    17     3\n",
       "15    16    27.0      16    17     2\n",
       "16    17    28.0      21    18     0\n",
       "17    18    33.0      26    20    -6"
      ]
     },
     "execution_count": 33,
     "metadata": {},
     "output_type": "execute_result"
    }
   ],
   "source": [
    "dp_05[12:18]"
   ]
  },
  {
   "cell_type": "markdown",
   "id": "7bc52c16-43fd-4071-8cdc-b6d582cbe903",
   "metadata": {},
   "source": [
    "## Covariance"
   ]
  },
  {
   "cell_type": "code",
   "execution_count": 34,
   "id": "f178778d-40bb-4ae4-809d-afade2e40715",
   "metadata": {},
   "outputs": [
    {
     "data": {
      "text/html": [
       "<div>\n",
       "<style scoped>\n",
       "    .dataframe tbody tr th:only-of-type {\n",
       "        vertical-align: middle;\n",
       "    }\n",
       "\n",
       "    .dataframe tbody tr th {\n",
       "        vertical-align: top;\n",
       "    }\n",
       "\n",
       "    .dataframe thead th {\n",
       "        text-align: right;\n",
       "    }\n",
       "</style>\n",
       "<table border=\"1\" class=\"dataframe\">\n",
       "  <thead>\n",
       "    <tr style=\"text-align: right;\">\n",
       "      <th></th>\n",
       "      <th>Time</th>\n",
       "      <th>E_Plug</th>\n",
       "      <th>E_Heat</th>\n",
       "      <th>Temp</th>\n",
       "    </tr>\n",
       "  </thead>\n",
       "  <tbody>\n",
       "    <tr>\n",
       "      <th>Time</th>\n",
       "      <td>50.000000</td>\n",
       "      <td>88.535573</td>\n",
       "      <td>-0.500000</td>\n",
       "      <td>8.217391</td>\n",
       "    </tr>\n",
       "    <tr>\n",
       "      <th>E_Plug</th>\n",
       "      <td>88.535573</td>\n",
       "      <td>455.260870</td>\n",
       "      <td>25.833992</td>\n",
       "      <td>0.154150</td>\n",
       "    </tr>\n",
       "    <tr>\n",
       "      <th>E_Heat</th>\n",
       "      <td>-0.500000</td>\n",
       "      <td>25.833992</td>\n",
       "      <td>47.346014</td>\n",
       "      <td>-51.206522</td>\n",
       "    </tr>\n",
       "    <tr>\n",
       "      <th>Temp</th>\n",
       "      <td>8.217391</td>\n",
       "      <td>0.154150</td>\n",
       "      <td>-51.206522</td>\n",
       "      <td>63.500000</td>\n",
       "    </tr>\n",
       "  </tbody>\n",
       "</table>\n",
       "</div>"
      ],
      "text/plain": [
       "             Time      E_Plug     E_Heat       Temp\n",
       "Time    50.000000   88.535573  -0.500000   8.217391\n",
       "E_Plug  88.535573  455.260870  25.833992   0.154150\n",
       "E_Heat  -0.500000   25.833992  47.346014 -51.206522\n",
       "Temp     8.217391    0.154150 -51.206522  63.500000"
      ]
     },
     "execution_count": 34,
     "metadata": {},
     "output_type": "execute_result"
    }
   ],
   "source": [
    "dp_05.cov()"
   ]
  },
  {
   "cell_type": "code",
   "execution_count": 35,
   "id": "a47e9b42-25e3-42ec-990f-ecb15bd2001c",
   "metadata": {},
   "outputs": [],
   "source": [
    "import seaborn as sns"
   ]
  },
  {
   "cell_type": "code",
   "execution_count": 36,
   "id": "f1992aa8-3a8b-4cf2-8250-fc2373761043",
   "metadata": {},
   "outputs": [
    {
     "data": {
      "text/plain": [
       "<AxesSubplot:>"
      ]
     },
     "execution_count": 36,
     "metadata": {},
     "output_type": "execute_result"
    },
    {
     "data": {
      "image/png": "[encoded data removed]",
      "text/plain": [
       "<Figure size 432x288 with 2 Axes>"
      ]
     },
     "metadata": {
      "needs_background": "light"
     },
     "output_type": "display_data"
    }
   ],
   "source": [
    "sns.heatmap(dp_05.corr())\n"
   ]
  },
  {
   "cell_type": "markdown",
   "id": "4544e46f-de36-49a2-8e5b-ee1f94720106",
   "metadata": {},
   "source": [
    "## MIsing Value"
   ]
  },
  {
   "cell_type": "code",
   "execution_count": 37,
   "id": "0f2aee88-89a1-4c5a-b7a2-2496e84e8799",
   "metadata": {},
   "outputs": [
    {
     "name": "stdout",
     "output_type": "stream",
     "text": [
      "<class 'pandas.core.frame.DataFrame'>\n",
      "RangeIndex: 24 entries, 0 to 23\n",
      "Data columns (total 5 columns):\n",
      " #   Column  Non-Null Count  Dtype  \n",
      "---  ------  --------------  -----  \n",
      " 0   Time    24 non-null     int64  \n",
      " 1   E_Plug  23 non-null     float64\n",
      " 2   E_Heat  24 non-null     int64  \n",
      " 3   Price   24 non-null     object \n",
      " 4   Temp    24 non-null     int64  \n",
      "dtypes: float64(1), int64(3), object(1)\n",
      "memory usage: 1.1+ KB\n"
     ]
    }
   ],
   "source": [
    "dp_05.info()"
   ]
  },
  {
   "cell_type": "code",
   "execution_count": 38,
   "id": "f9058bc1-3a97-43c0-8bc9-2330cca16a4e",
   "metadata": {},
   "outputs": [
    {
     "data": {
      "text/plain": [
       "Time      0\n",
       "E_Plug    1\n",
       "E_Heat    0\n",
       "Price     0\n",
       "Temp      0\n",
       "dtype: int64"
      ]
     },
     "execution_count": 38,
     "metadata": {},
     "output_type": "execute_result"
    }
   ],
   "source": [
    "dp_05.isna().sum()"
   ]
  },
  {
   "cell_type": "code",
   "execution_count": 42,
   "id": "c116fc3c-9473-438a-aa3a-0ea201365e74",
   "metadata": {},
   "outputs": [
    {
     "name": "stdout",
     "output_type": "stream",
     "text": [
      "<class 'pandas.core.frame.DataFrame'>\n",
      "RangeIndex: 24 entries, 0 to 23\n",
      "Data columns (total 5 columns):\n",
      " #   Column  Non-Null Count  Dtype  \n",
      "---  ------  --------------  -----  \n",
      " 0   Time    24 non-null     int64  \n",
      " 1   E_Plug  23 non-null     float64\n",
      " 2   E_Heat  24 non-null     int64  \n",
      " 3   Price   23 non-null     object \n",
      " 4   Temp    24 non-null     int64  \n",
      "dtypes: float64(1), int64(3), object(1)\n",
      "memory usage: 1.1+ KB\n"
     ]
    }
   ],
   "source": [
    "dp_05['Price'] = dp_05['Price'].replace('!', np.NaN)\n",
    "dp_05.info()"
   ]
  },
  {
   "cell_type": "code",
   "execution_count": 46,
   "id": "d7687bc8-0bce-411d-9b1d-4ff0ac0fc7e0",
   "metadata": {},
   "outputs": [
    {
     "name": "stdout",
     "output_type": "stream",
     "text": [
      "<class 'pandas.core.frame.DataFrame'>\n",
      "RangeIndex: 24 entries, 0 to 23\n",
      "Data columns (total 5 columns):\n",
      " #   Column  Non-Null Count  Dtype  \n",
      "---  ------  --------------  -----  \n",
      " 0   Time    24 non-null     int64  \n",
      " 1   E_Plug  23 non-null     float64\n",
      " 2   E_Heat  24 non-null     int64  \n",
      " 3   Price   23 non-null     float64\n",
      " 4   Temp    24 non-null     int64  \n",
      "dtypes: float64(2), int64(3)\n",
      "memory usage: 1.1 KB\n"
     ]
    }
   ],
   "source": [
    "dp_05['Price'] = dp_05['Price'].apply(pd.to_numeric)\n",
    "dp_05.info()"
   ]
  },
  {
   "cell_type": "code",
   "execution_count": null,
   "id": "eb13c82b-182e-479d-b9df-72634de7eb77",
   "metadata": {},
   "outputs": [],
   "source": []
  }
 ],
 "metadata": {
  "kernelspec": {
   "display_name": "Python 3",
   "language": "python",
   "name": "python3"
  },
  "language_info": {
   "codemirror_mode": {
    "name": "ipython",
    "version": 3
   },
   "file_extension": ".py",
   "mimetype": "text/x-python",
   "name": "python",
   "nbconvert_exporter": "python",
   "pygments_lexer": "ipython3",
   "version": "3.8.10"
  }
 },
 "nbformat": 4,
 "nbformat_minor": 5
}
