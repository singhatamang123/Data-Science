{
 "cells": [
  {
   "cell_type": "code",
   "execution_count": 2,
   "id": "a711d92f-a779-4e7e-829b-ce7ee3b2e0de",
   "metadata": {},
   "outputs": [],
   "source": [
    "import pandas as pd"
   ]
  },
  {
   "cell_type": "code",
   "execution_count": 9,
   "id": "ebedd4ae-f264-4a4c-9d6d-6849c3eb8a8d",
   "metadata": {},
   "outputs": [
    {
     "name": "stdout",
     "output_type": "stream",
     "text": [
      "age_01    10\n",
      "age_02    20\n",
      "age_03    30\n",
      "age_04    40\n",
      "dtype: int64\n",
      "(4,)\n",
      "30\n"
     ]
    },
    {
     "data": {
      "text/plain": [
       "a1    10\n",
       "a2    20\n",
       "a3    30\n",
       "a4    40\n",
       "dtype: int64"
      ]
     },
     "execution_count": 9,
     "metadata": {},
     "output_type": "execute_result"
    }
   ],
   "source": [
    "age = pd.Series([10, 20, 30, 40], index = ['age_01', 'age_02', 'age_03', 'age_04'])\n",
    "print(age)\n",
    "print(age.shape)\n",
    "find_age = age.age_03\n",
    "\n",
    "# age[age>20]\n",
    "print(find_age)\n",
    "\n",
    "# age.values\n",
    "\n",
    "age.index=['a1', 'a2', 'a3', 'a4']\n",
    "\n",
    "age\n",
    "\n",
    "rename_age = age.rename(index = {'a2':'age_02'})\n",
    "\n"
   ]
  },
  {
   "cell_type": "markdown",
   "id": "8fe66562-451e-42de-9ff3-569ef4852864",
   "metadata": {},
   "source": [
    "# DataFrame\n"
   ]
  },
  {
   "cell_type": "code",
   "execution_count": 18,
   "id": "36d5be46-c19a-4c5e-9c4b-c388d428e7fb",
   "metadata": {},
   "outputs": [
    {
     "name": "stdout",
     "output_type": "stream",
     "text": [
      "<class 'numpy.ndarray'>\n",
      "    0   1   2\n",
      "0  20  10   8\n",
      "1  25   8  10\n",
      "2  27   5   3\n",
      "3  30   9   7\n",
      "<class 'pandas.core.frame.DataFrame'>\n"
     ]
    }
   ],
   "source": [
    "import numpy as np\n",
    "df = np.array([[20, 10, 8], [25, 8, 10], [27, 5, 3], [30, 9, 7]])\n",
    "df\n",
    "\n",
    "np.shape(df)\n",
    "print(type(df))\n",
    "\n",
    "data_set = pd.DataFrame(df)\n",
    "print(data_set)\n",
    "\n",
    "print(type(data_set))"
   ]
  },
  {
   "cell_type": "code",
   "execution_count": 40,
   "id": "21dfb494-80a9-40fe-b970-712cffc63dce",
   "metadata": {},
   "outputs": [
    {
     "name": "stdout",
     "output_type": "stream",
     "text": [
      "    Age  Grade_01  Grade_02\n",
      "s1   20        10         8\n",
      "s2   25         8        10\n",
      "s3   27         5         3\n",
      "s4   30         9         7\n",
      "    Age  Grade_01  Grade_02\n",
      "s1   20        10         8\n",
      "s2   25         8        10\n",
      "s3   27         5         3\n",
      "s4   30         9         7\n",
      "    Grade_01  Grade_02\n",
      "s1        10         8\n",
      "s2         8        10\n",
      "s3         5         3\n",
      "s4         9         7\n"
     ]
    }
   ],
   "source": [
    "\n",
    "data_set = pd.DataFrame(df, index = ['s1', 's2', 's3', 's4'], columns = ['Age', 'Grade_01', 'Grade_02'])\n",
    "print(data_set)\n",
    "# print(data_set.values)\n",
    "# print(data_set.iloc[1])\n",
    "# print(data_set.iloc[1][2])\n",
    "# print(data_set.iloc[1:3])\n",
    "\n",
    "print(data_set.iloc[:,:3])\n",
    "filtered_data = data_set.iloc[:, 1:3]\n",
    "print(filtered_data)\n"
   ]
  },
  {
   "cell_type": "code",
   "execution_count": 41,
   "id": "c6edbd7f-222c-4ce1-911b-77883190223a",
   "metadata": {},
   "outputs": [
    {
     "name": "stdout",
     "output_type": "stream",
     "text": [
      "    Age  Grade_01\n",
      "s1   20        10\n",
      "s2   25         8\n",
      "s3   27         5\n",
      "s4   30         9\n"
     ]
    }
   ],
   "source": [
    "# dropping values in dataFrame\n",
    "\n",
    "drop_column = data_set.drop('Grade_02', axis = 1)\n",
    "print(drop_column)"
   ]
  },
  {
   "cell_type": "code",
   "execution_count": 42,
   "id": "c80fb7e3-3625-4fb9-89ca-08ac9e2bb050",
   "metadata": {},
   "outputs": [
    {
     "name": "stdout",
     "output_type": "stream",
     "text": [
      "    Age  Grade_01  Grade_02\n",
      "s1   20        12         8\n",
      "s2   25         8        12\n",
      "s3   27         5         3\n",
      "s4   30         9         7\n"
     ]
    }
   ],
   "source": [
    "replace_data = data_set.replace(10,12)\n",
    "print(replace_data)"
   ]
  },
  {
   "cell_type": "code",
   "execution_count": 43,
   "id": "70616116-45a1-4cc3-98d3-22572e3d730e",
   "metadata": {},
   "outputs": [
    {
     "name": "stdout",
     "output_type": "stream",
     "text": [
      "            Age  Grade_01  Grade_02\n",
      "s1       Twenty        10         8\n",
      "s2  Twenty Five         8        10\n",
      "s3           27         5         3\n",
      "s4           30         9         7\n"
     ]
    }
   ],
   "source": [
    "replace_multiple_data = data_set.replace({20:'Twenty', 25:'Twenty Five'})\n",
    "print(replace_multiple_data)"
   ]
  },
  {
   "cell_type": "code",
   "execution_count": 44,
   "id": "48063f9e-0b03-43d6-81b0-c59fda640d9e",
   "metadata": {},
   "outputs": [
    {
     "data": {
      "text/html": [
       "<div>\n",
       "<style scoped>\n",
       "    .dataframe tbody tr th:only-of-type {\n",
       "        vertical-align: middle;\n",
       "    }\n",
       "\n",
       "    .dataframe tbody tr th {\n",
       "        vertical-align: top;\n",
       "    }\n",
       "\n",
       "    .dataframe thead th {\n",
       "        text-align: right;\n",
       "    }\n",
       "</style>\n",
       "<table border=\"1\" class=\"dataframe\">\n",
       "  <thead>\n",
       "    <tr style=\"text-align: right;\">\n",
       "      <th></th>\n",
       "      <th>Age</th>\n",
       "      <th>Grade_01</th>\n",
       "      <th>Grade_02</th>\n",
       "    </tr>\n",
       "  </thead>\n",
       "  <tbody>\n",
       "    <tr>\n",
       "      <th>s1</th>\n",
       "      <td>20</td>\n",
       "      <td>10</td>\n",
       "      <td>8</td>\n",
       "    </tr>\n",
       "    <tr>\n",
       "      <th>s2</th>\n",
       "      <td>25</td>\n",
       "      <td>8</td>\n",
       "      <td>10</td>\n",
       "    </tr>\n",
       "    <tr>\n",
       "      <th>s3</th>\n",
       "      <td>27</td>\n",
       "      <td>5</td>\n",
       "      <td>3</td>\n",
       "    </tr>\n",
       "  </tbody>\n",
       "</table>\n",
       "</div>"
      ],
      "text/plain": [
       "    Age  Grade_01  Grade_02\n",
       "s1   20        10         8\n",
       "s2   25         8        10\n",
       "s3   27         5         3"
      ]
     },
     "execution_count": 44,
     "metadata": {},
     "output_type": "execute_result"
    }
   ],
   "source": [
    "data_set.head(3)"
   ]
  },
  {
   "cell_type": "code",
   "execution_count": 46,
   "id": "8a4aa1db-fe1e-451d-89dd-cbc9d6876816",
   "metadata": {},
   "outputs": [
    {
     "data": {
      "text/html": [
       "<div>\n",
       "<style scoped>\n",
       "    .dataframe tbody tr th:only-of-type {\n",
       "        vertical-align: middle;\n",
       "    }\n",
       "\n",
       "    .dataframe tbody tr th {\n",
       "        vertical-align: top;\n",
       "    }\n",
       "\n",
       "    .dataframe thead th {\n",
       "        text-align: right;\n",
       "    }\n",
       "</style>\n",
       "<table border=\"1\" class=\"dataframe\">\n",
       "  <thead>\n",
       "    <tr style=\"text-align: right;\">\n",
       "      <th></th>\n",
       "      <th>Age</th>\n",
       "      <th>Grade_01</th>\n",
       "      <th>Grade_02</th>\n",
       "    </tr>\n",
       "  </thead>\n",
       "  <tbody>\n",
       "    <tr>\n",
       "      <th>s3</th>\n",
       "      <td>27</td>\n",
       "      <td>5</td>\n",
       "      <td>3</td>\n",
       "    </tr>\n",
       "    <tr>\n",
       "      <th>s4</th>\n",
       "      <td>30</td>\n",
       "      <td>9</td>\n",
       "      <td>7</td>\n",
       "    </tr>\n",
       "  </tbody>\n",
       "</table>\n",
       "</div>"
      ],
      "text/plain": [
       "    Age  Grade_01  Grade_02\n",
       "s3   27         5         3\n",
       "s4   30         9         7"
      ]
     },
     "execution_count": 46,
     "metadata": {},
     "output_type": "execute_result"
    }
   ],
   "source": [
    "data_set.tail(2)"
   ]
  },
  {
   "cell_type": "code",
   "execution_count": null,
   "id": "fd1c72e9-7449-4dd4-97d2-82ad3d57f989",
   "metadata": {},
   "outputs": [],
   "source": []
  }
 ],
 "metadata": {
  "kernelspec": {
   "display_name": "Python 3",
   "language": "python",
   "name": "python3"
  },
  "language_info": {
   "codemirror_mode": {
    "name": "ipython",
    "version": 3
   },
   "file_extension": ".py",
   "mimetype": "text/x-python",
   "name": "python",
   "nbconvert_exporter": "python",
   "pygments_lexer": "ipython3",
   "version": "3.8.10"
  }
 },
 "nbformat": 4,
 "nbformat_minor": 5
}
