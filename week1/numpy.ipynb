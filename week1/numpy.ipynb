{
 "cells": [
  {
   "cell_type": "code",
   "execution_count": 1,
   "id": "011771e1-3d99-4c85-90c6-59c25495219b",
   "metadata": {},
   "outputs": [],
   "source": [
    "import numpy as np"
   ]
  },
  {
   "cell_type": "code",
   "execution_count": 2,
   "id": "0539094a-3242-457d-a49a-f7c749b9d957",
   "metadata": {},
   "outputs": [
    {
     "name": "stdout",
     "output_type": "stream",
     "text": [
      "[1 2 3 4 5]\n",
      "1\n",
      "(5,)\n"
     ]
    }
   ],
   "source": [
    "# 1 dimensional array\n",
    "\n",
    "one = np.array([1,2,3,4,5])\n",
    "print(one)\n",
    "print(np.ndim(one))\n",
    "print(np.shape(one))"
   ]
  },
  {
   "cell_type": "code",
   "execution_count": 3,
   "id": "35f42ce1-51bf-465f-8510-9506c0d924d0",
   "metadata": {},
   "outputs": [
    {
     "name": "stdout",
     "output_type": "stream",
     "text": [
      "[[ 1 23  3]\n",
      " [ 4  5  6]]\n",
      "2\n",
      "(2, 3)\n"
     ]
    }
   ],
   "source": [
    "# 2 dimensional arry\n",
    "\n",
    "two = np.array([[1,23,3], [4,5,6]])\n",
    "print(two)\n",
    "print(np.ndim(two))\n",
    "print(np.shape(two))"
   ]
  },
  {
   "cell_type": "code",
   "execution_count": 6,
   "id": "3d7072ab-a716-44c8-9ce9-9d1e46b799aa",
   "metadata": {},
   "outputs": [
    {
     "name": "stdout",
     "output_type": "stream",
     "text": [
      "[[[1 2]\n",
      "  [2 3]\n",
      "  [4 5]\n",
      "  [6 7]]]\n",
      "3\n",
      "(1, 4, 2)\n"
     ]
    }
   ],
   "source": [
    "# three dimensional array\n",
    "\n",
    "three = np.array([[[1,2],[2,3], [4,5],[6,7]]])\n",
    "print(three)\n",
    "print(np.ndim(three))\n",
    "print(np.shape(three))"
   ]
  },
  {
   "cell_type": "code",
   "execution_count": 11,
   "id": "6b020e0b-fa68-48c5-9209-2141c8c8f563",
   "metadata": {},
   "outputs": [
    {
     "name": "stdout",
     "output_type": "stream",
     "text": [
      "Arrays shape --> (2, 2), dimension --> 2 , Type --> <class 'numpy.ndarray'>\n",
      "[[27 30]\n",
      " [78 87]]\n",
      "[[ 7 16]\n",
      " [40 55]]\n",
      "[[ 7 16]\n",
      " [40 55]]\n",
      "[[ 8 10]\n",
      " [14 16]]\n",
      "[[ 8 10]\n",
      " [14 16]]\n",
      "12\n",
      "[[-6 -6]\n",
      " [-6 -6]]\n"
     ]
    }
   ],
   "source": [
    "# mathematical opreration on array\n",
    "\n",
    "np_01 = np.array([[1, 2], [4, 5]])\n",
    "np_02 = np.array([[7, 8], [10, 11]])\n",
    "print('Arrays shape --> {}, dimension --> {} , Type --> {}'.format(np.shape(np_01),np.ndim(np_01),type(np_01)))\n",
    "np_01 @ np_02\n",
    "\n",
    "np_03 = np.dot(np_01, np_02)\n",
    "print(np_03)\n",
    "\n",
    "multi_arr = np_01*np_02\n",
    "print(multi_arr)\n",
    "\n",
    "multiply_array_04 = np.multiply(np_01, np_02)\n",
    "print(multiply_array_04)\n",
    "\n",
    "\n",
    "sum_array = np_01 + np_02\n",
    "print(sum_array)\n",
    "\n",
    "sum_array_02 = np.add(np_01, np_02)\n",
    "print(sum_array_02)\n",
    "\n",
    "element_sum = np.sum(np_01)\n",
    "print(element_sum)\n",
    "\n",
    "substract_array_01 = np_01 - np_02\n",
    "print(substract_array_01 )"
   ]
  },
  {
   "cell_type": "markdown",
   "id": "93fff1b9-6bcf-4bb2-9cdf-df1bb92e3c00",
   "metadata": {},
   "source": [
    "# Broadcating\n",
    "The term broadcasting refers to the ability of NumPy to treat arrays of different shapes during arithmetic \n",
    "operations. Arithmetic operations on arrays are usually done on corresponding elements. \n",
    "If two arrays are of exactly the same shape, then these operations are smoothly performed."
   ]
  },
  {
   "cell_type": "code",
   "execution_count": 12,
   "id": "837ec4ef-a363-4b94-a4db-49cefef0fa54",
   "metadata": {},
   "outputs": [
    {
     "name": "stdout",
     "output_type": "stream",
     "text": [
      "[[4 5]\n",
      " [7 8]]\n"
     ]
    }
   ],
   "source": [
    "nump_brod = np_01 + 3\n",
    "print(nump_brod)"
   ]
  },
  {
   "cell_type": "code",
   "execution_count": 14,
   "id": "0e0f73c3-d06a-451b-b81b-d818ffd8c591",
   "metadata": {},
   "outputs": [
    {
     "name": "stdout",
     "output_type": "stream",
     "text": [
      "[[ 8 10]\n",
      " [11 13]]\n",
      "[ 5. 10. 15.]\n"
     ]
    }
   ],
   "source": [
    "nump_broad_02 = np_01 + np.array([7, 8 ])\n",
    "print(nump_broad_02)\n",
    "\n",
    "\n",
    "divide_01 = np.divide([10, 20, 30], 2)\n",
    "print(divide_01)\n",
    "\n",
    "divide_02 = np.floor_divide([10, 20, 30], 2)\n",
    "\n",
    "divide_03 = np.divide(np_01, np_02)\n",
    "\n"
   ]
  },
  {
   "cell_type": "markdown",
   "id": "f5503ef6-6fa7-4f73-bf67-6600b9018dd2",
   "metadata": {},
   "source": [
    "# Random function"
   ]
  },
  {
   "cell_type": "code",
   "execution_count": 15,
   "id": "6738ff30-1cca-4be8-8f8d-f0c3a276857d",
   "metadata": {},
   "outputs": [
    {
     "name": "stdout",
     "output_type": "stream",
     "text": [
      "[[40  1 33 15]\n",
      " [29 19  4  6]\n",
      " [17 19  9 36]]\n",
      "[[ True False  True False]\n",
      " [False False False False]\n",
      " [False False False  True]]\n",
      "[40 33 36]\n"
     ]
    }
   ],
   "source": [
    "random_interger_array = np.random.randint(1, 50, (3,4))\n",
    "print(random_interger_array)\n",
    "\n",
    "\n",
    "# Zero and ones\n",
    "\n",
    "zeros = np.zeros((3,4))\n",
    "\n",
    "\n",
    "ones = np.ones((3,4))\n",
    "\n",
    "# filtering \n",
    "filter_array = np.logical_and(random_interger_array > 30, random_interger_array < 50)\n",
    "print(filter_array)\n",
    "\n",
    "filter_random_Arr = random_interger_array[filter_array]\n",
    "print(filter_random_Arr)\n"
   ]
  },
  {
   "cell_type": "markdown",
   "id": "05a7db28-70ed-4c99-9e81-61a2cf27c48d",
   "metadata": {},
   "source": [
    "# Statistics"
   ]
  },
  {
   "cell_type": "code",
   "execution_count": 16,
   "id": "79d3f36f-c3f0-4c15-aeff-2ad688a5d995",
   "metadata": {},
   "outputs": [],
   "source": [
    "my_data = np.array([1, 3, 4, 5, 6, 7, 8])\n",
    "\n",
    "mean = np.mean(my_data)\n",
    "\n",
    "median = np.median(my_data)\n",
    "\n",
    "# Variance\n",
    "var = np.var(my_data)\n",
    "\n",
    "sd = np.math.sqrt(var)\n",
    "\n"
   ]
  },
  {
   "cell_type": "markdown",
   "id": "1e17e190-ee77-4f28-84ee-0cd9b7660f27",
   "metadata": {},
   "source": [
    "# Distribution"
   ]
  },
  {
   "cell_type": "code",
   "execution_count": 21,
   "id": "4798567e-74e9-4dcd-8647-57bb658d5af4",
   "metadata": {},
   "outputs": [
    {
     "name": "stdout",
     "output_type": "stream",
     "text": [
      "[[18.87071829 47.47315049 33.07601478 19.16954917]\n",
      " [42.68611403 43.26405742  6.77866299 39.23926121]\n",
      " [ 3.12612174 37.60576458 44.38381665  5.0844668 ]]\n"
     ]
    },
    {
     "name": "stderr",
     "output_type": "stream",
     "text": [
      "/home/singha/anaconda3/envs/num/lib/python3.8/site-packages/seaborn/distributions.py:2557: FutureWarning: `distplot` is a deprecated function and will be removed in a future version. Please adapt your code to use either `displot` (a figure-level function with similar flexibility) or `histplot` (an axes-level function for histograms).\n",
      "  warnings.warn(msg, FutureWarning)\n"
     ]
    },
    {
     "data": {
      "text/plain": [
       "<AxesSubplot:ylabel='Density'>"
      ]
     },
     "execution_count": 21,
     "metadata": {},
     "output_type": "execute_result"
    },
    {
     "data": {
      "image/png": "[encoded data removed]",
      "text/plain": [
       "<Figure size 432x288 with 1 Axes>"
      ]
     },
     "metadata": {
      "needs_background": "light"
     },
     "output_type": "display_data"
    }
   ],
   "source": [
    "import seaborn as sns\n",
    "\n",
    "# normal_distribution = np.random.standard_normal(4)\n",
    "# print(normal_distribution)\n",
    "# sns.distplot(normal_distribution)\n",
    "\n",
    "\n",
    "uniform_distribution = np.random.uniform(1, 50, (3,4)) \n",
    "\n",
    "print(uniform_distribution)\n",
    "sns.distplot(uniform_distribution)\n",
    "\n"
   ]
  },
  {
   "cell_type": "code",
   "execution_count": null,
   "id": "a156590c-b673-4186-a3ea-d78348ee5df1",
   "metadata": {},
   "outputs": [],
   "source": []
  }
 ],
 "metadata": {
  "kernelspec": {
   "display_name": "Python 3",
   "language": "python",
   "name": "python3"
  },
  "language_info": {
   "codemirror_mode": {
    "name": "ipython",
    "version": 3
   },
   "file_extension": ".py",
   "mimetype": "text/x-python",
   "name": "python",
   "nbconvert_exporter": "python",
   "pygments_lexer": "ipython3",
   "version": "3.8.10"
  }
 },
 "nbformat": 4,
 "nbformat_minor": 5
}
