{
 "cells": [
  {
   "cell_type": "code",
   "execution_count": 1,
   "id": "f2cd4bb2-6956-49b6-a416-0197c3f9fcfb",
   "metadata": {},
   "outputs": [],
   "source": [
    "import pandas as pd\n",
    "import numpy as np"
   ]
  },
  {
   "cell_type": "code",
   "execution_count": null,
   "id": "6cf2196a-e846-4cd7-956c-1aa25b36df38",
   "metadata": {},
   "outputs": [],
   "source": [
    "data_01 = pd.read_excel('airlines_dataset.xlsx')\n",
    "data_01.head()"
   ]
  },
  {
   "cell_type": "code",
   "execution_count": null,
   "id": "8f860962-79ac-4df9-8865-cc12814b91a0",
   "metadata": {},
   "outputs": [],
   "source": [
    "data_01.shape"
   ]
  },
  {
   "cell_type": "code",
   "execution_count": null,
   "id": "3f3567e3-c1a1-42b0-bc49-d2ea9a40ccf0",
   "metadata": {
    "scrolled": true
   },
   "outputs": [],
   "source": [
    "data_01.info()"
   ]
  },
  {
   "cell_type": "code",
   "execution_count": null,
   "id": "1f7b715a-2e7c-4a5e-ae82-3f55461cce8e",
   "metadata": {},
   "outputs": [],
   "source": [
    "data_01.describe()"
   ]
  },
  {
   "cell_type": "code",
   "execution_count": null,
   "id": "a767a71b-7cbf-4eaf-bbc9-8b11091d455d",
   "metadata": {},
   "outputs": [],
   "source": [
    "data_01['Price'].min()"
   ]
  },
  {
   "cell_type": "code",
   "execution_count": null,
   "id": "4d5f61a3-feed-439e-9ccf-648681097cd8",
   "metadata": {},
   "outputs": [],
   "source": [
    "data_01['Price'].max()"
   ]
  },
  {
   "cell_type": "code",
   "execution_count": null,
   "id": "13e1126a-2416-400e-91da-4f64032a8f18",
   "metadata": {},
   "outputs": [],
   "source": [
    "data_01['Date_of_Journey']"
   ]
  },
  {
   "cell_type": "code",
   "execution_count": null,
   "id": "8023d74f-19db-427f-9221-2703a08e4b65",
   "metadata": {},
   "outputs": [],
   "source": [
    "data_01.isna().sum()"
   ]
  },
  {
   "cell_type": "code",
   "execution_count": null,
   "id": "940d5b29-c72b-413b-a16e-6f66458b4370",
   "metadata": {},
   "outputs": [],
   "source": [
    "data_01['Total_Stops']"
   ]
  },
  {
   "cell_type": "code",
   "execution_count": null,
   "id": "15164345-4799-4353-a966-7205838fbee3",
   "metadata": {},
   "outputs": [],
   "source": [
    "data_01['Route'].isna().sum()"
   ]
  },
  {
   "cell_type": "code",
   "execution_count": null,
   "id": "056ad76e",
   "metadata": {},
   "outputs": [],
   "source": [
    "# droping the NAN value null of dataset\n",
    "data_01.dropna(inplace=True)\n",
    "data_01.shape"
   ]
  },
  {
   "cell_type": "code",
   "execution_count": null,
   "id": "de5d0132",
   "metadata": {},
   "outputs": [],
   "source": [
    "# checking is there null value in column or not\n",
    "data_01.isnull().sum()"
   ]
  },
  {
   "cell_type": "markdown",
   "id": "09f7358c",
   "metadata": {},
   "source": [
    "## To see that visually"
   ]
  },
  {
   "cell_type": "code",
   "execution_count": null,
   "id": "c1da34d9",
   "metadata": {},
   "outputs": [],
   "source": [
    "data_01['Dep_Time']\n"
   ]
  },
  {
   "cell_type": "code",
   "execution_count": null,
   "id": "7f14972d",
   "metadata": {},
   "outputs": [],
   "source": [
    "import seaborn as sns"
   ]
  },
  {
   "cell_type": "code",
   "execution_count": null,
   "id": "f75ec4ab",
   "metadata": {},
   "outputs": [],
   "source": [
    "sns.heatmap(data_01.isnull(),yticklabels=False, cbar=False, cmap='viridis')"
   ]
  },
  {
   "cell_type": "code",
   "execution_count": null,
   "id": "0cf910c5",
   "metadata": {},
   "outputs": [],
   "source": [
    "#Extracting day and month from column Date of Journey\n",
    "data_01[\"Journe_day\"] = pd.to_datetime(data_01['Date_of_Journey'],format=\"%d/%m/%Y\").dt.day\n",
    "data_01[\"Journe_month\"] = pd.to_datetime(data_01['Date_of_Journey'],format=\"%d/%m/%Y\").dt.month\n",
    "\n",
    "data_01.head()"
   ]
  },
  {
   "cell_type": "code",
   "execution_count": null,
   "id": "c13d9b04",
   "metadata": {},
   "outputs": [],
   "source": [
    "# drop the unnecessary column\n",
    "\n",
    "data_01.drop(['Date_of_Journey'],axis=1, inplace=True)\n",
    "data_01.head()"
   ]
  },
  {
   "cell_type": "code",
   "execution_count": null,
   "id": "8b7b4ca2",
   "metadata": {},
   "outputs": [],
   "source": [
    "## Now extracting the deep_time and arrival_time\n",
    "\n",
    "\n",
    "data_01['Deep_hour'] = pd.to_datetime(data_01['Dep_Time']).dt.hour\n",
    "data_01['Deep_min'] = pd.to_datetime(data_01['Dep_Time']).dt.minute"
   ]
  },
  {
   "cell_type": "code",
   "execution_count": null,
   "id": "61a21d2e",
   "metadata": {},
   "outputs": [],
   "source": [
    "data_01['Arrival_hour'] = pd.to_datetime(data_01['Arrival_Time']).dt.hour\n",
    "data_01['Arrival_min'] = pd.to_datetime(data_01['Arrival_Time']).dt.minute\n",
    "\n",
    "data_01.head()"
   ]
  },
  {
   "cell_type": "code",
   "execution_count": null,
   "id": "8fe00bbe",
   "metadata": {},
   "outputs": [],
   "source": [
    "data_01.drop(['Dep_Time'], axis=1, inplace=True)\n",
    "data_01.drop(['Arrival_Time'], axis=1, inplace=True)"
   ]
  },
  {
   "cell_type": "code",
   "execution_count": null,
   "id": "f6e36387",
   "metadata": {},
   "outputs": [],
   "source": [
    "list(data_01.columns)"
   ]
  },
  {
   "cell_type": "code",
   "execution_count": null,
   "id": "4f986a00",
   "metadata": {},
   "outputs": [],
   "source": [
    "data_01.head()"
   ]
  },
  {
   "cell_type": "code",
   "execution_count": null,
   "id": "e57ff725",
   "metadata": {},
   "outputs": [],
   "source": [
    "## Duration between departure and arrival time\n",
    "\n",
    "duration = list(data_01['Duration'])\n",
    "# duration"
   ]
  },
  {
   "cell_type": "code",
   "execution_count": null,
   "id": "08e8a4d8",
   "metadata": {},
   "outputs": [],
   "source": [
    "duration = list(data_01[\"Duration\"])\n",
    "\n",
    "for i in range(len(duration)):\n",
    "    if len(duration[i].split()) != 2:    # Check if duration contains only hour or mins\n",
    "        if \"h\" in duration[i]:\n",
    "            duration[i] = duration[i].strip() + \" 0m\"   # Adds 0 minute\n",
    "        else:\n",
    "            duration[i] = \"0h \" + duration[i]           # Adds 0 hour\n",
    "\n",
    "duration_hours = []\n",
    "duration_mins = []\n",
    "for i in range(len(duration)):\n",
    "    duration_hours.append(int(duration[i].split(sep = \"h\")[0]))    # Extract hours from duration\n",
    "    duration_mins.append(int(duration[i].split(sep = \"m\")[0].split()[-1]))"
   ]
  },
  {
   "cell_type": "code",
   "execution_count": null,
   "id": "5ada0a71",
   "metadata": {},
   "outputs": [],
   "source": [
    "data_01[\"Duration_hours\"] = duration_hours\n",
    "data_01[\"Duration_mins\"] = duration_mins"
   ]
  },
  {
   "cell_type": "code",
   "execution_count": null,
   "id": "b3c3c941",
   "metadata": {},
   "outputs": [],
   "source": [
    "data_01.drop([\"Duration\"],axis=1, inplace=True)\n",
    "data_01.head()"
   ]
  },
  {
   "cell_type": "code",
   "execution_count": null,
   "id": "b69f88af",
   "metadata": {},
   "outputs": [],
   "source": [
    "data_01['Airline'].value_counts()"
   ]
  },
  {
   "cell_type": "code",
   "execution_count": null,
   "id": "e945c8d6",
   "metadata": {},
   "outputs": [],
   "source": [
    "airline = data_01['Airline']\n",
    "\n",
    "airline= pd.get_dummies(airline, drop_first=True)\n",
    "airline.head()"
   ]
  },
  {
   "cell_type": "code",
   "execution_count": null,
   "id": "dcc90bca",
   "metadata": {},
   "outputs": [],
   "source": [
    "Source = data_01[['Source']]\n",
    "Source = pd.get_dummies(Source, drop_first=True)\n",
    "Source.head()"
   ]
  },
  {
   "cell_type": "code",
   "execution_count": null,
   "id": "c6e69c3f",
   "metadata": {},
   "outputs": [],
   "source": [
    "data_01.drop(['Route', 'Additional_Info'], axis=1, inplace=True)\n",
    "data_01.head()"
   ]
  },
  {
   "cell_type": "code",
   "execution_count": null,
   "id": "83a78d5c",
   "metadata": {},
   "outputs": [],
   "source": [
    "## Finding outliners\n",
    "import matplotlib.pyplot as plt\n",
    "plt.figure(figsize=(30,5))\n",
    "sns.boxplot(x=data_01['Price'], palette='colorblind')"
   ]
  },
  {
   "cell_type": "code",
   "execution_count": null,
   "id": "139d6e4b",
   "metadata": {},
   "outputs": [],
   "source": [
    "data_01.boxplot()"
   ]
  },
  {
   "cell_type": "code",
   "execution_count": null,
   "id": "97bbec44",
   "metadata": {},
   "outputs": [],
   "source": [
    "# dropping outliers\n",
    "\n",
    "q1 = data_01.quantile(0.25)\n",
    "q3 = data_01.quantile(0.75)\n",
    "\n",
    "IQR = q3 - q1\n",
    "\n",
    "print(\"\\nIQR=\\n\", IQR)\n",
    "# new_data = data_01[~((data_01 < (q1 - 1.5* IQR)) |(data_01 > (q3 + 1.5 * IQR))).any(axis=1)]\n",
    "# new_data.head()\n",
    "# new_data.shape"
   ]
  },
  {
   "cell_type": "code",
   "execution_count": null,
   "id": "06e23be2",
   "metadata": {},
   "outputs": [],
   "source": [
    "price = data_01['Price']\n",
    "price.head()"
   ]
  },
  {
   "cell_type": "code",
   "execution_count": null,
   "id": "e48464f2",
   "metadata": {},
   "outputs": [],
   "source": [
    "# outliers = []\n",
    "# def detect_outliers(price):\n",
    "#     threshold = 3\n",
    "#     mean= price.mean()\n",
    "#     std = price.std()\n",
    "    \n",
    "#     for i in price:\n",
    "#         z_score = (i - mean)/std\n",
    "#         if z_score > threshold:\n",
    "#             outliers.append(i)\n",
    "#     return outliers"
   ]
  },
  {
   "cell_type": "code",
   "execution_count": null,
   "id": "f953e68d",
   "metadata": {},
   "outputs": [],
   "source": [
    "# outliers_pt = detect_outliers(price)\n",
    "# outliers_pt."
   ]
  },
  {
   "cell_type": "code",
   "execution_count": null,
   "id": "67a7457b",
   "metadata": {},
   "outputs": [],
   "source": [
    "data_01.describe()"
   ]
  },
  {
   "cell_type": "code",
   "execution_count": null,
   "id": "3aacf8fc",
   "metadata": {},
   "outputs": [],
   "source": [
    "list(data_01.columns)"
   ]
  },
  {
   "cell_type": "markdown",
   "id": "444230cc",
   "metadata": {},
   "source": [
    "## relation in between ARRIVAL and DEPARTURE Hour"
   ]
  },
  {
   "cell_type": "code",
   "execution_count": null,
   "id": "0feef7bf",
   "metadata": {},
   "outputs": [],
   "source": [
    "plt.figure(figsize=(20,10))\n",
    "c= data_01.corr()\n",
    "sns.heatmap(c,cmap=\"coolwarm\",annot=True) #BrBG, RdGy, coolwarm\n",
    "c"
   ]
  },
  {
   "cell_type": "code",
   "execution_count": null,
   "id": "a1d768dd",
   "metadata": {},
   "outputs": [],
   "source": []
  }
 ],
 "metadata": {
  "kernelspec": {
   "display_name": "Python 3",
   "language": "python",
   "name": "python3"
  },
  "language_info": {
   "codemirror_mode": {
    "name": "ipython",
    "version": 3
   },
   "file_extension": ".py",
   "mimetype": "text/x-python",
   "name": "python",
   "nbconvert_exporter": "python",
   "pygments_lexer": "ipython3",
   "version": "3.8.10"
  }
 },
 "nbformat": 4,
 "nbformat_minor": 5
}
